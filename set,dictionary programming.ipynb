{
 "cells": [
  {
   "cell_type": "code",
   "execution_count": 3,
   "id": "076c150e-2a83-4063-b435-b83a15fba404",
   "metadata": {},
   "outputs": [
    {
     "name": "stdout",
     "output_type": "stream",
     "text": [
      "{1, 34, 'aaple', 'bananna', 23}\n"
     ]
    }
   ],
   "source": [
    "thisset={\"aaple\",\"bananna\",1,34,23}\n",
    "print(thisset)"
   ]
  },
  {
   "cell_type": "code",
   "execution_count": 5,
   "id": "931b1b6b-055f-4681-88e5-04f28df2cea8",
   "metadata": {},
   "outputs": [
    {
     "name": "stdout",
     "output_type": "stream",
     "text": [
      "True\n"
     ]
    }
   ],
   "source": [
    "print(\"bananna\" in thisset)"
   ]
  },
  {
   "cell_type": "code",
   "execution_count": 7,
   "id": "f9ec42eb-d039-4826-bfce-b2d97de1b241",
   "metadata": {},
   "outputs": [
    {
     "name": "stdout",
     "output_type": "stream",
     "text": [
      "False\n"
     ]
    }
   ],
   "source": [
    "print(\"bananna\" not in thisset)"
   ]
  },
  {
   "cell_type": "code",
   "execution_count": 10,
   "id": "5bfd8dd0-b74d-4225-9d83-aba8efdc5f4f",
   "metadata": {},
   "outputs": [
    {
     "name": "stdout",
     "output_type": "stream",
     "text": [
      "{'apple', 'nimbu', 'banana', 'cherry'}\n"
     ]
    }
   ],
   "source": [
    "thisset={\"apple\",\"banana\",\"cherry\"}\n",
    "thisset.add(\"nimbu\")\n",
    "print(thisset)"
   ]
  },
  {
   "cell_type": "code",
   "execution_count": 14,
   "id": "3b16058d-1758-4478-8c2c-ccee447c6ab7",
   "metadata": {},
   "outputs": [
    {
     "name": "stdout",
     "output_type": "stream",
     "text": [
      "{'apple', 'kiwi', 'banana', 'cherry', 'mongo'}\n"
     ]
    }
   ],
   "source": [
    "thisset={\"apple\",\"banana\",\"cherry\"}\n",
    "mylist=[\"kiwi\",\"mongo\"]\n",
    "thisset.update(mylist)\n",
    "print(thisset)"
   ]
  },
  {
   "cell_type": "code",
   "execution_count": 15,
   "id": "225a1a0c-842e-472a-91a9-f7b032e7f191",
   "metadata": {},
   "outputs": [
    {
     "name": "stdout",
     "output_type": "stream",
     "text": [
      "{'apple', 'banana'}\n"
     ]
    }
   ],
   "source": [
    "thisset={\"apple\",\"banana\",\"cherry\"}\n",
    "thisset.remove(\"cherry\")\n",
    "print(thisset)"
   ]
  },
  {
   "cell_type": "code",
   "execution_count": 17,
   "id": "4229c45f-0634-496f-ad14-96b5adab422b",
   "metadata": {},
   "outputs": [
    {
     "ename": "KeyError",
     "evalue": "'kiwi'",
     "output_type": "error",
     "traceback": [
      "\u001b[1;31m---------------------------------------------------------------------------\u001b[0m",
      "\u001b[1;31mKeyError\u001b[0m                                  Traceback (most recent call last)",
      "Cell \u001b[1;32mIn[17], line 2\u001b[0m\n\u001b[0;32m      1\u001b[0m thisset\u001b[38;5;241m=\u001b[39m{\u001b[38;5;124m\"\u001b[39m\u001b[38;5;124mapple\u001b[39m\u001b[38;5;124m\"\u001b[39m,\u001b[38;5;124m\"\u001b[39m\u001b[38;5;124mbanana\u001b[39m\u001b[38;5;124m\"\u001b[39m,\u001b[38;5;124m\"\u001b[39m\u001b[38;5;124mcherry\u001b[39m\u001b[38;5;124m\"\u001b[39m}\n\u001b[1;32m----> 2\u001b[0m thisset\u001b[38;5;241m.\u001b[39mremove(\u001b[38;5;124m\"\u001b[39m\u001b[38;5;124mkiwi\u001b[39m\u001b[38;5;124m\"\u001b[39m)\n\u001b[0;32m      3\u001b[0m \u001b[38;5;28mprint\u001b[39m(thisset)\n",
      "\u001b[1;31mKeyError\u001b[0m: 'kiwi'"
     ]
    }
   ],
   "source": [
    "thisset={\"apple\",\"banana\",\"cherry\"}\n",
    "thisset.remove(\"kiwi\")\n",
    "print(thisset)"
   ]
  },
  {
   "cell_type": "code",
   "execution_count": 16,
   "id": "b7f18c85-a661-4265-a05a-176ec77fcd77",
   "metadata": {},
   "outputs": [
    {
     "name": "stdout",
     "output_type": "stream",
     "text": [
      "{'apple', 'banana'}\n"
     ]
    }
   ],
   "source": [
    "thisset={\"apple\",\"banana\",\"cherry\"}\n",
    "thisset.discard(\"cherry\")\n",
    "print(thisset)"
   ]
  },
  {
   "cell_type": "code",
   "execution_count": 18,
   "id": "c4630267-4475-411d-bb53-befcbd16c618",
   "metadata": {},
   "outputs": [
    {
     "name": "stdout",
     "output_type": "stream",
     "text": [
      "{'apple', 'banana', 'cherry'}\n"
     ]
    }
   ],
   "source": [
    "thisset={\"apple\",\"banana\",\"cherry\"}\n",
    "thisset.discard(\"kiwi\")\n",
    "print(thisset)"
   ]
  },
  {
   "cell_type": "code",
   "execution_count": 24,
   "id": "a3e699fc-9a40-4a64-be09-7845fa2c2340",
   "metadata": {},
   "outputs": [
    {
     "name": "stdout",
     "output_type": "stream",
     "text": [
      "apple\n",
      "{'banana', 'cherry'}\n"
     ]
    }
   ],
   "source": [
    "thisset={\"apple\",\"banana\",\"cherry\"}\n",
    "x=thisset.pop()\n",
    "print(x)\n",
    "print(thisset)"
   ]
  },
  {
   "cell_type": "code",
   "execution_count": 34,
   "id": "701f95d3-010a-4cde-885a-3019b560a038",
   "metadata": {},
   "outputs": [
    {
     "ename": "NameError",
     "evalue": "name 'thisset' is not defined",
     "output_type": "error",
     "traceback": [
      "\u001b[1;31m---------------------------------------------------------------------------\u001b[0m",
      "\u001b[1;31mNameError\u001b[0m                                 Traceback (most recent call last)",
      "Cell \u001b[1;32mIn[34], line 3\u001b[0m\n\u001b[0;32m      1\u001b[0m thisset\u001b[38;5;241m=\u001b[39m{\u001b[38;5;124m\"\u001b[39m\u001b[38;5;124mapple\u001b[39m\u001b[38;5;124m\"\u001b[39m,\u001b[38;5;124m\"\u001b[39m\u001b[38;5;124mbanana\u001b[39m\u001b[38;5;124m\"\u001b[39m,\u001b[38;5;124m\"\u001b[39m\u001b[38;5;124mcherry\u001b[39m\u001b[38;5;124m\"\u001b[39m}\n\u001b[0;32m      2\u001b[0m \u001b[38;5;28;01mdel\u001b[39;00m thisset\n\u001b[1;32m----> 3\u001b[0m \u001b[38;5;28mprint\u001b[39m(thisset)\n",
      "\u001b[1;31mNameError\u001b[0m: name 'thisset' is not defined"
     ]
    }
   ],
   "source": [
    "thisset={\"apple\",\"banana\",\"cherry\"}\n",
    "del thisset\n",
    "print(thisset)"
   ]
  },
  {
   "cell_type": "code",
   "execution_count": 26,
   "id": "56aa495b-684b-4dd0-851c-69b2e45c580a",
   "metadata": {},
   "outputs": [
    {
     "name": "stdout",
     "output_type": "stream",
     "text": [
      "None\n",
      "set()\n"
     ]
    }
   ],
   "source": [
    "thisset={\"apple\",\"banana\",\"cherry\"}\n",
    "x=thisset.clear()\n",
    "print(x)\n",
    "print(thisset)"
   ]
  },
  {
   "cell_type": "code",
   "execution_count": null,
   "id": "88cf64f4-0862-45a5-8ff2-3a9ba491b04b",
   "metadata": {},
   "outputs": [],
   "source": [
    "JOINING SET "
   ]
  },
  {
   "cell_type": "code",
   "execution_count": 2,
   "id": "81e990eb-9d95-4a0b-89fd-52eac993d253",
   "metadata": {},
   "outputs": [
    {
     "name": "stdout",
     "output_type": "stream",
     "text": [
      "{'y', 6, 7, 8, 'z', 'x'}\n"
     ]
    }
   ],
   "source": [
    "#union method\n",
    "set={\"x\",\"y\",\"z\"}\n",
    "set1={6,7,8}\n",
    "set3=set1.union(set)\n",
    "print(set3)"
   ]
  },
  {
   "cell_type": "code",
   "execution_count": 5,
   "id": "a95e0337-ff6f-4b3c-b4c3-9b0ee9b605e1",
   "metadata": {},
   "outputs": [
    {
     "name": "stdout",
     "output_type": "stream",
     "text": [
      "{'y', 6, 7, 8, 'z', 'x'}\n"
     ]
    }
   ],
   "source": [
    "#   |operator\n",
    "set={\"x\",\"y\",\"z\"}\n",
    "set1={6,7,8}\n",
    "set3=set1 |(set)\n",
    "print(set3)"
   ]
  },
  {
   "cell_type": "code",
   "execution_count": 6,
   "id": "2649a8bb-b02f-4160-b315-0e31d7602d55",
   "metadata": {},
   "outputs": [
    {
     "name": "stdout",
     "output_type": "stream",
     "text": [
      "{'chotu', 'king', 'y', 6, 7, 8, 'queen', 'x', 'motu', 'patlu', 'z'}\n",
      "{'chotu', 'king', 'y', 6, 7, 8, 'queen', 'x', 'motu', 'patlu', 'z'}\n"
     ]
    }
   ],
   "source": [
    "#join multiple sets\n",
    "####  with union  ######\n",
    "set={\"x\",\"y\",\"z\"}\n",
    "set1={6,7,8}\n",
    "set2={\"motu\",\"patlu\",\"chotu\"}\n",
    "set3={\"king\", \"queen\"}\n",
    "largest=set.union(set1,set2,set3)\n",
    "print(largest)\n",
    "\n",
    "\n",
    "\n",
    "####   with operator   ####\n",
    "set={\"x\",\"y\",\"z\"}\n",
    "set1={6,7,8}\n",
    "set2={\"motu\",\"patlu\",\"chotu\"}\n",
    "set3={\"king\", \"queen\"}\n",
    "largest=set|set1|set2|set3\n",
    "print(largest)"
   ]
  },
  {
   "cell_type": "code",
   "execution_count": 13,
   "id": "67436485-1471-48cf-a94c-be611d6392d7",
   "metadata": {},
   "outputs": [
    {
     "name": "stdout",
     "output_type": "stream",
     "text": [
      "{'y', 6, 7, 8, 'z', 'x'}\n"
     ]
    }
   ],
   "source": [
    "# UPDATE METHOD  \n",
    "set={\"x\",\"y\",\"z\"}\n",
    "set1={6,7,8}\n",
    "set.update(set1)\n",
    "print(set)"
   ]
  },
  {
   "cell_type": "code",
   "execution_count": 9,
   "id": "bd3ec2fc-cf6d-4d78-9e2d-87a20eefe5e6",
   "metadata": {},
   "outputs": [
    {
     "name": "stdout",
     "output_type": "stream",
     "text": [
      "{'x'}\n"
     ]
    }
   ],
   "source": [
    "#intersection method \n",
    "set={\"x\",\"y\",\"z\"}\n",
    "set1={6,7,8,\"x\"}\n",
    "set3= set.intersection(set1)\n",
    "print(set3)"
   ]
  },
  {
   "cell_type": "code",
   "execution_count": 10,
   "id": "297886ec-cc5d-4cdd-945f-35dc5285e975",
   "metadata": {},
   "outputs": [
    {
     "name": "stdout",
     "output_type": "stream",
     "text": [
      "{'x'}\n"
     ]
    }
   ],
   "source": [
    "#    & OPERATOR \n",
    "set={\"x\",\"y\",\"z\"}\n",
    "set1={6,7,8,\"x\"}\n",
    "set3=set& set1\n",
    "print(set3)\n"
   ]
  },
  {
   "cell_type": "code",
   "execution_count": 12,
   "id": "1a775171-f083-4e18-a3b0-cf31803590b0",
   "metadata": {},
   "outputs": [
    {
     "name": "stdout",
     "output_type": "stream",
     "text": [
      "{8, 6, 7}\n",
      "{'z', 'y'}\n"
     ]
    }
   ],
   "source": [
    "# difference method \n",
    "set={\"x\",\"y\",\"z\"}\n",
    "set1={6,7,8,\"x\"}\n",
    "set3=set1.difference(set)\n",
    "print(set3)\n",
    "\n",
    "\n",
    "\n",
    "\n",
    "set={\"x\",\"y\",\"z\"}\n",
    "set1={6,7,8,\"x\"}\n",
    "set3=set.difference(set1)\n",
    "print(set3)"
   ]
  },
  {
   "cell_type": "code",
   "execution_count": 15,
   "id": "7f450044-0c9d-4da4-9d37-4ae195284503",
   "metadata": {},
   "outputs": [
    {
     "name": "stdout",
     "output_type": "stream",
     "text": [
      "{'NAME': 'MARUTHI', 'MODEL': 2019, 'LIFE': 12}\n"
     ]
    }
   ],
   "source": [
    "# DICTIONARY\n",
    "DICT={\"NAME\":\"MARUTHI\",\"MODEL\":2019,\"LIFE\":12}\n",
    "print(DICT)\n",
    "\n",
    "\n",
    "# diconaries are used to store data values in key:value pairs #\n",
    "# its is a collection which is ordered ,changable and do not allow duplicate #\n"
   ]
  },
  {
   "cell_type": "code",
   "execution_count": 17,
   "id": "077f49d1-4901-4cb9-9382-e15c3faad28a",
   "metadata": {},
   "outputs": [
    {
     "name": "stdout",
     "output_type": "stream",
     "text": [
      "MARUTHI\n"
     ]
    }
   ],
   "source": [
    "#accessing dictionary elemets \n",
    "print(DICT['NAME'])"
   ]
  },
  {
   "cell_type": "code",
   "execution_count": 19,
   "id": "ee6a5c7c-f937-4880-a32d-f95e60921dfb",
   "metadata": {},
   "outputs": [
    {
     "name": "stdout",
     "output_type": "stream",
     "text": [
      "3\n"
     ]
    }
   ],
   "source": [
    "# length of a dictionary \n",
    "print(len(DICT))"
   ]
  },
  {
   "cell_type": "code",
   "execution_count": 21,
   "id": "9b3ea604-3385-4666-8b7a-07e45ffa3b89",
   "metadata": {},
   "outputs": [
    {
     "name": "stdout",
     "output_type": "stream",
     "text": [
      "<class 'dict'>\n"
     ]
    }
   ],
   "source": [
    "# type of data \n",
    "print(type(DICT))"
   ]
  },
  {
   "cell_type": "code",
   "execution_count": 24,
   "id": "b15d385f-8dc5-4daa-8457-e0e151fa8a19",
   "metadata": {},
   "outputs": [
    {
     "name": "stdout",
     "output_type": "stream",
     "text": [
      "{'name': 'suzuki', 'model': 'xi', 'year': 2006}\n",
      "{'name': 'suzuki', 'model': 'xi', 'year': 2002}\n"
     ]
    }
   ],
   "source": [
    "# for duplicate key items \n",
    "car_dict={\"name\":\"suzuki\",\"model\":\"xi\",\"year\":2007,\"year\":2006}\n",
    "print(car_dict)\n",
    "\n",
    "\n",
    "car_dict={\"name\":\"suzuki\",\"model\":\"xi\",\"year\":2007,\"year\":2002}\n",
    "print(car_dict)"
   ]
  },
  {
   "cell_type": "code",
   "execution_count": 1,
   "id": "3961ebec-cd44-48dd-b24e-88968dafc6de",
   "metadata": {},
   "outputs": [
    {
     "name": "stdout",
     "output_type": "stream",
     "text": [
      "['suzuki', 'maruthi', 'honda']\n"
     ]
    }
   ],
   "source": [
    "#get \n",
    "car_dict={\"name\":[\"suzuki\",\"maruthi\",\"honda\"],\"model\":\"xi\",\"year\":2007,\"year\":2006}\n",
    "x=car_dict.get('name')\n",
    "print(x)"
   ]
  },
  {
   "cell_type": "code",
   "execution_count": 13,
   "id": "a3c74263-5e59-4b39-b800-6f8910f4e1b7",
   "metadata": {},
   "outputs": [
    {
     "name": "stdout",
     "output_type": "stream",
     "text": [
      "{'name': 'A', 'year': 2023, 'pass': 'true'}\n"
     ]
    }
   ],
   "source": [
    "d3={\"name\":\"A\",\"year\":2023,\"pass\":\"true\",\"marks\":[12,34,56]}\n",
    "# the del keyword dlt the specific key name\n",
    "del d3[\"marks\"]\n",
    "print(d3)"
   ]
  },
  {
   "cell_type": "code",
   "execution_count": 19,
   "id": "1d3da064-3d33-4b3e-b19b-d6b4433ed226",
   "metadata": {},
   "outputs": [
    {
     "ename": "NameError",
     "evalue": "name 'd3' is not defined",
     "output_type": "error",
     "traceback": [
      "\u001b[1;31m---------------------------------------------------------------------------\u001b[0m",
      "\u001b[1;31mNameError\u001b[0m                                 Traceback (most recent call last)",
      "Cell \u001b[1;32mIn[19], line 1\u001b[0m\n\u001b[1;32m----> 1\u001b[0m \u001b[38;5;28;01mdel\u001b[39;00m d3\n",
      "\u001b[1;31mNameError\u001b[0m: name 'd3' is not defined"
     ]
    }
   ],
   "source": [
    "# del keyword can also delete the whole dictionary \n",
    "del d3"
   ]
  },
  {
   "cell_type": "code",
   "execution_count": 25,
   "id": "8ad45728-b3f5-4951-ad86-b053df786974",
   "metadata": {},
   "outputs": [
    {
     "name": "stdout",
     "output_type": "stream",
     "text": [
      "{}\n"
     ]
    }
   ],
   "source": [
    "#the clear() method dlt the keywords but the tructure remains s\n",
    "d3={\"name\":\"A\",\"year\":2023,\"pass\":\"true\",\"marks\":[12,34,56]}\n",
    "d3.clear()\n",
    "print(d3)"
   ]
  },
  {
   "cell_type": "code",
   "execution_count": 35,
   "id": "86cb9a93-3c2a-46e8-a918-8b13b7b3ba13",
   "metadata": {},
   "outputs": [
    {
     "name": "stdout",
     "output_type": "stream",
     "text": [
      "{'name': 'A', 'year': 2023, 'pass': 'true', 'marks': [12, 34, 56]}\n",
      "{'name': 'A', 'year': 2023, 'pass': 'true', 'marks': [12, 34, 56]}\n"
     ]
    }
   ],
   "source": [
    "# copy the dictionary \n",
    "d3={\"name\":\"A\",\"year\":2023,\"pass\":\"true\",\"marks\":[12,34,56]}\n",
    "d4= d3.copy()\n",
    "print(d4)\n",
    "\n",
    "#####\n",
    "\n",
    "d5=dict(d4)\n",
    "print(d5)"
   ]
  },
  {
   "cell_type": "code",
   "execution_count": 3,
   "id": "cbdcbae4-c5b5-419e-a4c8-ac590532cca8",
   "metadata": {},
   "outputs": [
    {
     "name": "stdout",
     "output_type": "stream",
     "text": [
      "{'child': {'name': 'madhav', 'year': 2006}, 'child2': {'name': 'chirag', 'year': 2008}, 'child3': {'name': 'bhavika', 'year': 2004}}\n",
      "chirag\n"
     ]
    }
   ],
   "source": [
    "#nested dictionary \n",
    "my_family ={\n",
    "    \"child\":{\"name\":\"madhav\",\n",
    "             \"year\":2006\n",
    "            },\n",
    "    \"child2\":{\"name\":\"chirag\",\n",
    "              \"year\":2008\n",
    "             },\n",
    "    \"child3\":{\"name\":\"bhavika\",\n",
    "              \"year\":2004\n",
    "             }\n",
    "}\n",
    "print(my_family)\n",
    "print(my_family[\"child2\"][\"name\"])"
   ]
  },
  {
   "cell_type": "code",
   "execution_count": null,
   "id": "847206e7-fd03-4306-9648-84143851a739",
   "metadata": {},
   "outputs": [],
   "source": []
  }
 ],
 "metadata": {
  "kernelspec": {
   "display_name": "Python 3 (ipykernel)",
   "language": "python",
   "name": "python3"
  },
  "language_info": {
   "codemirror_mode": {
    "name": "ipython",
    "version": 3
   },
   "file_extension": ".py",
   "mimetype": "text/x-python",
   "name": "python",
   "nbconvert_exporter": "python",
   "pygments_lexer": "ipython3",
   "version": "3.12.4"
  }
 },
 "nbformat": 4,
 "nbformat_minor": 5
}
